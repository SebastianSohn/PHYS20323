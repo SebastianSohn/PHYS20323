{
 "cells": [
  {
   "cell_type": "markdown",
   "metadata": {},
   "source": [
    "# Phyiscs Problems - Lectures 18 & 19 - Homework 9 \n",
    "\n",
    "FALL 2023\n"
   ]
  },
  {
   "cell_type": "markdown",
   "metadata": {},
   "source": [
    "### 1) Altitude of a satellite\n",
    "\n",
    "A satellite is to be launched into a circular orbit around the Earth so that it orbits the planet once every T seconds.\n",
    "\n",
    "The altitude h above the Earth’s surface that the satellite must have is:\n",
    "\n",
    "$$h = \\left( \\frac{G M T^2}{4\\pi^2} \\right)^{1/3} - R$$\n",
    "\n",
    "where $G = 6.67 \\times 10^{-11}$ m$^3$ kg$^{-1}$ s$^{-2}$\n",
    "is Newton's gravitational constant, $M = 5.97 \\times 10^{24}$ kg is the mass of the Earth, and $R = 6371$ km is its radius.\n",
    "\n",
    "#### Write a program that asks the user to enter the desired value of T and then calculates and prints out the correct altitude in meters.\n"
   ]
  },
  {
   "cell_type": "code",
   "execution_count": null,
   "metadata": {},
   "outputs": [],
   "source": [
    "import numpy as np \n",
    "T = float(input(\"T in Seconds: \"))\n",
    "G = 6.67*(10**(-11))\n",
    "M = 5.97*(10**24)\n",
    "R = 6371\n",
    "def altitude(T):\n",
    "    return (((G*M*(T**2))/(4*((np.pi)**2)))**(1/3))-R\n",
    "print(altitude(T))"
   ]
  },
  {
   "cell_type": "code",
   "execution_count": 2,
   "metadata": {},
   "outputs": [],
   "source": []
  },
  {
   "cell_type": "markdown",
   "metadata": {},
   "source": [
    "Use your program to calculate the altitudes of satellites that orbit the Earth once\n",
    "a day (so-called “geosynchronous” orbit), once every 90 minutes, and once every\n",
    "45 minutes. What do you conclude from the last of these calculations?\n",
    "\n",
    "\n",
    "\n"
   ]
  },
  {
   "cell_type": "code",
   "execution_count": 13,
   "metadata": {},
   "outputs": [
    {
     "name": "stdout",
     "output_type": "stream",
     "text": [
      "T in Minutes: 1440\n",
      "35855910.17617497 Meters\n"
     ]
    }
   ],
   "source": [
    "import numpy as np \n",
    "T = float(input(\"T in Minutes: \"))\n",
    "G = 6.67*(10**(-11))\n",
    "M = 5.97*(10**24)\n",
    "R = 6371\n",
    "def altitude(T):\n",
    "    return (((G*M*((T*60)**2))/(4*((np.pi)**2)))**(1/3))-(R*1000)\n",
    "print(altitude(T), \"Meters\")"
   ]
  },
  {
   "cell_type": "code",
   "execution_count": 4,
   "metadata": {},
   "outputs": [
    {
     "name": "stdout",
     "output_type": "stream",
     "text": [
      "35855910 meters\n",
      "279322 meters\n",
      "-2181560 meters\n"
     ]
    }
   ],
   "source": []
  },
  {
   "cell_type": "markdown",
   "metadata": {},
   "source": [
    "Technically a geosynchronous satellite is one that orbits the Earth once persidereal\n",
    "day, which is 23.93 hours, not 24 hours. Why is this? And how much difference\n",
    "will it make to the altitude of the satellite?"
   ]
  },
  {
   "cell_type": "code",
   "execution_count": 31,
   "metadata": {},
   "outputs": [
    {
     "name": "stdout",
     "output_type": "stream",
     "text": [
      "T in Minutes: 45\n",
      "-2181559.8978108233 Meters\n"
     ]
    }
   ],
   "source": [
    "import numpy as np \n",
    "T = float(input(\"T in Minutes: \"))\n",
    "G = 6.67*(10**(-11))\n",
    "M = 5.97*(10**24)\n",
    "R = 6371\n",
    "def altitude(T):\n",
    "    return (((G*M*((T*60)**2))/(4*((np.pi)**2)))**(1/3))-(R*1000)\n",
    "print(altitude(T), \"Meters\")"
   ]
  },
  {
   "cell_type": "markdown",
   "metadata": {},
   "source": [
    "#### Modify your code to calculate the times from 0.5 hour  to 30 days, in steps of 0.5 hours.   Then plot those data points (time vs h) with properly labled axes.  Plot orbits with height below 0 as red, and plots positive heeghts with times less than geosynchronous in blue and those longer in green."
   ]
  },
  {
   "cell_type": "code",
   "execution_count": 43,
   "metadata": {},
   "outputs": [
    {
     "data": {
      "text/plain": [
       "[<matplotlib.lines.Line2D at 0x2dc28bf29d0>]"
      ]
     },
     "execution_count": 43,
     "metadata": {},
     "output_type": "execute_result"
    },
    {
     "data": {
      "image/png": "[encoded data removed]",
      "text/plain": [
       "<Figure size 640x480 with 1 Axes>"
      ]
     },
     "metadata": {},
     "output_type": "display_data"
    }
   ],
   "source": [
    "import numpy as np \n",
    "G = 6.67*(10**(-11))\n",
    "M = 5.97*(10**24)\n",
    "R = 6371\n",
    "h1b = []\n",
    "T1b = []\n",
    "h1a = []\n",
    "T1a = []\n",
    "h1g = []\n",
    "T1g = []\n",
    "def altitude(T):\n",
    "    return (((G*M*((T*60*60)**2))/(4*((np.pi)**2)))**(1/3))-(R*1000)\n",
    "for T in np.arange(0.5, 720, 0.5):\n",
    "    if altitude(T) < 0:\n",
    "        T1b.append(T)\n",
    "        h1b.append(altitude(T))\n",
    "    if altitude(T) > 0 and altitude(T) < 35855910.17617497:\n",
    "        T1a.append(T)\n",
    "        h1a.append(altitude(T))\n",
    "    if altitude(T) > 35855910.17617497:\n",
    "        T1g.append(T)\n",
    "        h1g.append(altitude(T))\n",
    "    \n",
    "\n",
    "below_ground = (altitude(T) < 0)\n",
    "above_ground = (altitude(T) > 0)\n",
    "import matplotlib.pyplot as plt\n",
    "plt.plot(T1b, h1b, c = 'r')\n",
    "plt.plot(T1a, h1a, c = 'b')\n",
    "plt.plot(T1g, h1g, c = 'g') \n",
    "\n"
   ]
  },
  {
   "cell_type": "code",
   "execution_count": 13,
   "metadata": {},
   "outputs": [
    {
     "data": {
      "text/plain": [
       "[<matplotlib.lines.Line2D at 0x153a7029490>]"
      ]
     },
     "execution_count": 13,
     "metadata": {},
     "output_type": "execute_result"
    },
    {
     "data": {
      "image/png": "[encoded data removed]",
      "text/plain": [
       "<Figure size 640x480 with 1 Axes>"
      ]
     },
     "metadata": {},
     "output_type": "display_data"
    }
   ],
   "source": []
  },
  {
   "cell_type": "markdown",
   "metadata": {},
   "source": [
    "### 2) Special Relativity\n",
    "\n",
    "A spaceship travels from Earth in a straight line at a (relativistic)\n",
    "speed $v$ to another planet $x$ light years away. Write a program to ask\n",
    "the user for the value of $x$ and the speed $v$ as a fraction of the speed\n",
    "of light, then print out the time in years that the spaceship takes to\n",
    "reach its destination (a) in the rest frame of an observer on Earth\n",
    "and (b) as perceived by a passenger on board the ship.\n",
    "\n",
    "$$x' = \\gamma (x - vt)$$\n",
    "\n",
    "$$t' = \\gamma \\left(t - \\frac{v x}{c^2}\\right)$$\n",
    "\n",
    "$$\\gamma = \\frac{1}{\\sqrt{1 - \\frac{v^2}{c^2}}}$$\n"
   ]
  },
  {
   "cell_type": "code",
   "execution_count": 1,
   "metadata": {},
   "outputs": [
    {
     "name": "stdout",
     "output_type": "stream",
     "text": [
      "Distance in light years: 10\n",
      "Velocity as a fraction of the speed of light:  0.9\n",
      "Time percieved on Earth:  11.11111111111111 years\n",
      "Time percieved on the spaceship:  4.843221048378526 years\n"
     ]
    }
   ],
   "source": [
    "import math\n",
    "x = float(input(\"Distance in light years: \"))\n",
    "v = float(input(\"Velocity as a fraction of the speed of light:  \"))\n",
    "c = 299792458\n",
    "y = 1/(math.sqrt(1-((v**2))))\n",
    "def earth_t(x, v):\n",
    "    return x/v\n",
    "def spaceship_t(x, v):\n",
    "     return y*((earth_t(x, v))- (v*x))\n",
    "print(\"Time percieved on Earth: \", earth_t(x, v), \"years\") \n",
    "print(\"Time percieved on the spaceship: \", spaceship_t(x, v), \"years\")     "
   ]
  },
  {
   "cell_type": "markdown",
   "metadata": {},
   "source": [
    "#### Use your program to calculate the answers for a planet 10 light years away with $v = 0.90c$,  $v = 0.98c$, $v = 0.999c$."
   ]
  },
  {
   "cell_type": "code",
   "execution_count": 10,
   "metadata": {},
   "outputs": [
    {
     "name": "stdout",
     "output_type": "stream",
     "text": [
      "What is the velocity as a fraction of the speed of light? .9\n",
      "How far are you traveling in light years? 10\n",
      "Observing from Earth it took 11.11 years.\n",
      "Passengers on board the ship percieved to take 4.84 years.\n",
      "What is the velocity as a fraction of the speed of light? .98\n",
      "How far are you traveling in light years? 10\n",
      "Observing from Earth it took 10.2 years.\n",
      "Passengers on board the ship percieved to take 2.03 years.\n",
      "What is the velocity as a fraction of the speed of light? .999\n",
      "How far are you traveling in light years? 10\n",
      "Observing from Earth it took 10.01 years.\n",
      "Passengers on board the ship percieved to take 0.45 years.\n"
     ]
    }
   ],
   "source": []
  },
  {
   "cell_type": "markdown",
   "metadata": {},
   "source": [
    "### 3) The quadratic equation\n",
    "\n",
    " Write a program that takes as input three numbers, $a$, $b$, and $c$, and prints out the two solutions to the quadratic equation $ax^2 + bx + c = 0$ using the standard\n",
    "formula:\n",
    "\n",
    "$$x = \\frac{-b \\pm \\sqrt{b^2 - 4ac}}{2a}$$\n",
    "\n",
    "Use your program to compute the solutions of $0.001x^2 + 1000x + 0.001 = 0$."
   ]
  },
  {
   "cell_type": "code",
   "execution_count": 52,
   "metadata": {},
   "outputs": [
    {
     "name": "stdout",
     "output_type": "stream",
     "text": [
      "(-9.999894245993346e-07, -999999.999999)\n"
     ]
    }
   ],
   "source": [
    "import math\n",
    "a = 0.001\n",
    "b = 1000\n",
    "c = 0.001\n",
    "def quadratic(a, b, c):\n",
    "    return (-b + (math.sqrt((b**2)-(4*a*c))))/(2*a), (-b - (math.sqrt((b**2)-(4*a*c))))/(2*a)\n",
    "print(quadratic(a, b, c))"
   ]
  },
  {
   "cell_type": "markdown",
   "metadata": {},
   "source": [
    "There is another way to write the solutions to a quadratic equation. Multiplying top and bottom of the solution above by $-b \\mp \\sqrt{b^2 - 4ac}$, show that the solutions\n",
    "can also be written as:\n",
    "\n",
    "$$x = \\frac{2c}{-b \\mp \\sqrt{b^2 - 4ac}}$$\n",
    "\n",
    "Add further lines to your program to print these values in addition to the earlier ones and again use the program to solve $0.001x^2 + 1000x + 0.001 = 0$. What do you see? How do you explain it?"
   ]
  },
  {
   "cell_type": "code",
   "execution_count": 55,
   "metadata": {},
   "outputs": [
    {
     "name": "stdout",
     "output_type": "stream",
     "text": [
      "(-9.999894245993346e-07, -999999.999999)\n",
      "(-1.000000000001e-06, -1000010.5755125057)\n"
     ]
    }
   ],
   "source": [
    "import math\n",
    "a = 0.001\n",
    "b = 1000\n",
    "c = 0.001\n",
    "def quadratic(a, b, c):\n",
    "    return (-b + (math.sqrt((b**2)-(4*a*c))))/(2*a), (-b - (math.sqrt((b**2)-(4*a*c))))/(2*a)\n",
    "def quadratic2(a, b, c):\n",
    "    return (2*c)/(-b - (math.sqrt((b**2)-(4*a*c)))), (2*c)/(-b + (math.sqrt((b**2)-(4*a*c))))\n",
    "print(quadratic(a, b, c))\n",
    "print(quadratic2(a, b, c))"
   ]
  },
  {
   "cell_type": "code",
   "execution_count": 25,
   "metadata": {},
   "outputs": [
    {
     "name": "stdout",
     "output_type": "stream",
     "text": [
      "-999999.999999\n",
      "-1.000000000001e-06\n"
     ]
    }
   ],
   "source": [
    "import math\n",
    "a = 0.001\n",
    "b = 1000\n",
    "c = 0.001\n",
    "def root1(a, b, c):\n",
    "    return (-b - (math.sqrt((b**2)-(4*a*c))))/(2*a) \n",
    "def root2(a, b, c):\n",
    "    return (2*c)/(-b - (math.sqrt((b**2)-(4*a*c))))\n",
    "print(root1(a, b, c))\n",
    "print(root2(a, b, c))"
   ]
  },
  {
   "cell_type": "code",
   "execution_count": 14,
   "metadata": {},
   "outputs": [
    {
     "name": "stdout",
     "output_type": "stream",
     "text": [
      "The two roots are -1.000000000001e-06 and -999999.999999\n",
      "The two roots are -1e-08 and -100000000.0\n",
      "The two roots are 2.0 and 1.0\n"
     ]
    }
   ],
   "source": []
  },
  {
   "cell_type": "markdown",
   "metadata": {},
   "source": [
    "Using what you have learned, write a new program that calculates both roots of a quadratic equation accurately in all cases."
   ]
  },
  {
   "cell_type": "markdown",
   "metadata": {},
   "source": [
    "### 4) Planetary orbits\n",
    "\n",
    "The orbit in space of one body around another, such as a planet around the Sun, need not be circular. In general it takes the form of an ellipse, with the body sometimes closer in and sometimes further out. If you are given the distance $l_1$ of closest approach that a planet makes to the Sun, also called its perihelion, and its linear velocity $v_1$ at *perihelion*, then any other property of the orbit can be calculated from these two as follows.\n",
    "\n",
    "Kepler’s second law tells us that the distance $l_2$ and velocity $v_2$ of the planet at its most distant point, or *aphelion*, satisfy $l_2 v_2 = l_1 v_1$. \n",
    "\n",
    "\n",
    "Given the values of $v_1$, $l_1$, and $l_2$, other parameters of the orbit are given by simple formulas can that be derived from Kepler’s laws and the fact that the orbit is an ellipse:\n",
    "\n",
    "Semi-Major Axis $$ a = \\frac{1}{2} (l_1 + l_2) $$ \n",
    "Semi-Minor Axis: $$ b = \\sqrt{l_1  l_2} $$ \n",
    "Orbital Period: $$ T = \\frac{2 \\pi a b}{l_1 v_1} $$ \n",
    "Orbital eccentricity:  $$ e = \\frac{l_2 - l_1}{l_2 + l_1}$$\n",
    "\n",
    "#### Write a program with functions that asks the user to enter the distance to the Sun and velocity at perihelion, then calculates and prints the quantities $l2$, $v2$, $a$, $b$, $T$, and $e$.\n",
    "\n",
    "\n"
   ]
  },
  {
   "cell_type": "code",
   "execution_count": 1,
   "metadata": {
    "scrolled": true
   },
   "outputs": [
    {
     "name": "stdout",
     "output_type": "stream",
     "text": [
      "l2:  152203426488.95474\n",
      "v2:  29271.467816286717\n",
      "a:  149651713244.47736\n",
      "b:  149629957015.71677\n",
      "T:  31579931.406081423\n",
      "e:  0.017051012575504464\n"
     ]
    }
   ],
   "source": [
    "import math\n",
    "G = 6.67*(10**-11)\n",
    "M = 1.9891*(10**30)\n",
    "l1 = 1.4710*(10**11)\n",
    "v1 = 3.0287*(10**4)\n",
    "C = -((v1**2)-((2*G*M)/l1))\n",
    "B = -((2*G*M)/(v1*l1))\n",
    "v2a = (-B + math.sqrt(B**2-(4*C)))/2\n",
    "v2b = (-B - math.sqrt(B**2-(4*C)))/2\n",
    "if v2a < v2b:\n",
    "    v2 = v2a\n",
    "    l2 = (l1*v1)/v2\n",
    "else:\n",
    "    v2 = v2b\n",
    "    l2 = (l1*v1)/v2\n",
    "a = 0.5*(l1+l2)\n",
    "b = math.sqrt(l1*l2)\n",
    "T = (2*math.pi*a*b)/(l1*v1)\n",
    "e = (l2-l1)/(l2+l1)\n",
    "print(\"l2: \", l2)\n",
    "print(\"v2: \", v2)\n",
    "print(\"a: \", a)\n",
    "print(\"b: \", b)\n",
    "print(\"T: \", T)\n",
    "print(\"e: \", e)"
   ]
  },
  {
   "cell_type": "markdown",
   "metadata": {},
   "source": [
    "#### Test your program by having it calculate the properties of the orbits of the Earth (for which $l_1 = 1.4710 \\times 10^{11}$ m and $v_1 = 3.0287 \\times 10^4$ m s$^{−1}$ ) and Halley’s comet ($l_1 = 8.7830 \\times 10^{10}$ m and $v_1 = 5.4529 \\times 10^4$ m s${−1}$ ). Among other things, you should find that the orbital period of the Earth is one year and that of Halley’s comet is about 76 years."
   ]
  },
  {
   "cell_type": "code",
   "execution_count": 3,
   "metadata": {},
   "outputs": [
    {
     "name": "stdout",
     "output_type": "stream",
     "text": [
      "l1: 1.4710e11\n",
      "v1: 3.0287e4\n",
      "l2:  152203426488.95474\n",
      "v2:  29271.467816286717\n",
      "a:  149651713244.47736\n",
      "b:  149629957015.71677\n",
      "T:  31579931.406081423\n",
      "e:  0.017051012575504464\n"
     ]
    }
   ],
   "source": [
    "import math\n",
    "G = 6.67*(10**-11)\n",
    "M = 1.9891*(10**30)\n",
    "l1 = float(input(\"l1: \"))\n",
    "v1 = float(input(\"v1: \"))\n",
    "C = -((v1**2)-((2*G*M)/l1))\n",
    "B = -((2*G*M)/(v1*l1))\n",
    "v2a = (-B + math.sqrt(B**2-(4*C)))/2\n",
    "v2b = (-B - math.sqrt(B**2-(4*C)))/2\n",
    "if v2a < v2b:\n",
    "    v2 = v2a\n",
    "    l2 = (l1*v1)/v2\n",
    "else:\n",
    "    v2 = v2b\n",
    "    l2 = (l1*v1)/v2\n",
    "a = 0.5*(l1+l2)\n",
    "b = math.sqrt(l1*l2)\n",
    "T = (2*math.pi*a*b)/(l1*v1)\n",
    "e = (l2-l1)/(l2+l1)\n",
    "print(\"l2: \", l2)\n",
    "print(\"v2: \", v2)\n",
    "print(\"a: \", a)\n",
    "print(\"b: \", b)\n",
    "print(\"T: \", T)\n",
    "print(\"e: \", e)"
   ]
  },
  {
   "cell_type": "code",
   "execution_count": 4,
   "metadata": {},
   "outputs": [
    {
     "name": "stdout",
     "output_type": "stream",
     "text": [
      "l1: 8.783e10\n",
      "v1: 5.4529e4\n",
      "l2:  5472738862158.555\n",
      "v2:  875.1161330052964\n",
      "a:  2780284431079.2773\n",
      "b:  693304157108.1093\n",
      "T:  2528846591.482919\n",
      "e:  0.9684097069284723\n"
     ]
    }
   ],
   "source": [
    "import math\n",
    "G = 6.67*(10**-11)\n",
    "M = 1.9891*(10**30)\n",
    "l1 = float(input(\"l1: \"))\n",
    "v1 = float(input(\"v1: \"))\n",
    "C = -((v1**2)-((2*G*M)/l1))\n",
    "B = -((2*G*M)/(v1*l1))\n",
    "v2a = (-B + math.sqrt(B**2-(4*C)))/2\n",
    "v2b = (-B - math.sqrt(B**2-(4*C)))/2\n",
    "if v2a < v2b:\n",
    "    v2 = v2a\n",
    "    l2 = (l1*v1)/v2\n",
    "else:\n",
    "    v2 = v2b\n",
    "    l2 = (l1*v1)/v2\n",
    "a = 0.5*(l1+l2)\n",
    "b = math.sqrt(l1*l2)\n",
    "T = (2*math.pi*a*b)/(l1*v1)\n",
    "e = (l2-l1)/(l2+l1)\n",
    "print(\"l2: \", l2)\n",
    "print(\"v2: \", v2)\n",
    "print(\"a: \", a)\n",
    "print(\"b: \", b)\n",
    "print(\"T: \", T)\n",
    "print(\"e: \", e)"
   ]
  },
  {
   "cell_type": "code",
   "execution_count": null,
   "metadata": {},
   "outputs": [],
   "source": []
  }
 ],
 "metadata": {
  "kernelspec": {
   "display_name": "Python 3 (ipykernel)",
   "language": "python",
   "name": "python3"
  },
  "language_info": {
   "codemirror_mode": {
    "name": "ipython",
    "version": 3
   },
   "file_extension": ".py",
   "mimetype": "text/x-python",
   "name": "python",
   "nbconvert_exporter": "python",
   "pygments_lexer": "ipython3",
   "version": "3.11.4"
  }
 },
 "nbformat": 4,
 "nbformat_minor": 4
}
